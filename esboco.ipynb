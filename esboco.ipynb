{
 "cells": [
  {
   "cell_type": "markdown",
   "metadata": {},
   "source": [
    "### Entendendo o funcionamento de um Selenium"
   ]
  },
  {
   "cell_type": "code",
   "execution_count": 7,
   "metadata": {},
   "outputs": [],
   "source": [
    "from selenium import webdriver \n",
    "from selenium.webdriver.common.keys import Keys\n",
    "from selenium.webdriver.common.by import By\n",
    "import time"
   ]
  },
  {
   "cell_type": "code",
   "execution_count": 21,
   "metadata": {},
   "outputs": [],
   "source": [
    "browser = webdriver.Chrome()\n",
    "browser.maximize_window()\n",
    "browser.get('http://automacao.empowerdata.com.br')\n",
    "\n",
    "email = browser.find_element(By.XPATH, '//*[@id=\"email\"]')\n",
    "email.send_keys('aluno@empowerdata.com.br')\n",
    "time.sleep(1)\n",
    "\n",
    "login = browser.find_element(By.XPATH, '//*[@id=\"password\"]')\n",
    "login.send_keys('empowerpython')\n",
    "\n",
    "botao_entrar = browser.find_element(By.XPATH, '//*[@id=\"submit\"]')\n",
    "botao_entrar.click()\n"
   ]
  },
  {
   "cell_type": "code",
   "execution_count": 15,
   "metadata": {},
   "outputs": [],
   "source": [
    "cliente = browser.find_element(By.XPATH, '//*[@id=\"nome\"]')\n",
    "cliente.send_keys('Lays')\n",
    "\n",
    "email = browser.find_element(By.XPATH, '//*[@id=\"email\"]')\n",
    "email.send_keys('lays@gmail.com')\n",
    "\n",
    "telefone = browser.find_element(By.XPATH, '//*[@id=\"telefone\"]')\n",
    "telefone.send_keys('(42) 99877-5899')\n",
    "\n",
    "cidade = browser.find_element(By.XPATH, '//*[@id=\"cidade\"]')\n",
    "cidade.send_keys('Curitiba')\n",
    "\n",
    "estado = browser.find_element(By.XPATH, '//*[@id=\"estado\"]')\n",
    "estado.send_keys('Paraná')\n",
    "\n"
   ]
  },
  {
   "cell_type": "code",
   "execution_count": 16,
   "metadata": {},
   "outputs": [],
   "source": [
    "botao_cadastrar = browser.find_element(By.XPATH, '//*[@id=\"submit\"]')\n",
    "botao_cadastrar.click()"
   ]
  },
  {
   "cell_type": "code",
   "execution_count": 17,
   "metadata": {},
   "outputs": [],
   "source": [
    "import pandas as pd"
   ]
  },
  {
   "cell_type": "code",
   "execution_count": 18,
   "metadata": {},
   "outputs": [],
   "source": [
    "df = pd.read_excel('cadastro_clientes.xlsx')"
   ]
  },
  {
   "cell_type": "code",
   "execution_count": 22,
   "metadata": {},
   "outputs": [],
   "source": [
    "for _, linha in df.iterrows():\n",
    "    cliente = browser.find_element(By.XPATH, '//*[@id=\"nome\"]')\n",
    "    cliente.send_keys(linha['Nome'])\n",
    "\n",
    "    email = browser.find_element(By.XPATH, '//*[@id=\"email\"]')\n",
    "    email.send_keys(linha['E-mail'])\n",
    "\n",
    "    telefone = browser.find_element(By.XPATH, '//*[@id=\"telefone\"]')\n",
    "    telefone.send_keys(linha['Telefone'])\n",
    "\n",
    "    cidade = browser.find_element(By.XPATH, '//*[@id=\"cidade\"]')\n",
    "    cidade.send_keys(linha['Cidade'])\n",
    "\n",
    "    estado = browser.find_element(By.XPATH, '//*[@id=\"estado\"]')\n",
    "    estado.send_keys(linha['Estado'])\n",
    "    \n",
    "    time.sleep(2)\n",
    "\n",
    "    botao_cadastrar = browser.find_element(By.XPATH, '//*[@id=\"submit\"]')\n",
    "    botao_cadastrar.click()\n",
    "\n",
    "    break"
   ]
  },
  {
   "cell_type": "code",
   "execution_count": null,
   "metadata": {},
   "outputs": [],
   "source": []
  }
 ],
 "metadata": {
  "kernelspec": {
   "display_name": "Python 3.9.12 ('venv': venv)",
   "language": "python",
   "name": "python3"
  },
  "language_info": {
   "codemirror_mode": {
    "name": "ipython",
    "version": 3
   },
   "file_extension": ".py",
   "mimetype": "text/x-python",
   "name": "python",
   "nbconvert_exporter": "python",
   "pygments_lexer": "ipython3",
   "version": "3.9.12"
  },
  "orig_nbformat": 4,
  "vscode": {
   "interpreter": {
    "hash": "84df756f6443f5937d5ed8afe93d0b9b135656673ed6ad9d52c755293f60cf49"
   }
  }
 },
 "nbformat": 4,
 "nbformat_minor": 2
}
